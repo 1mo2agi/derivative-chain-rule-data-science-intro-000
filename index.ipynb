{
 "cells": [
  {
   "cell_type": "markdown",
   "metadata": {},
   "source": [
    "# The chain rule"
   ]
  },
  {
   "cell_type": "markdown",
   "metadata": {},
   "source": [
    "### Introduction"
   ]
  },
  {
   "cell_type": "markdown",
   "metadata": {},
   "source": [
    "So far we have seen that the derivative of a function is the instantaneous rate of change of that function.  In other words, how does a function's output change as we change one of the variables.  In this lesson, we will learn about the chain rule, which allows us to see how a function's output change as we change a variable that function does not directly depend on.  The chain rule may seem complicated, but it is just a matter of following the prescribed procedure.  Learning about the chain rule, will allow us to take the derivative of more complicated functions that we will encounter in machine learning."
   ]
  },
  {
   "cell_type": "markdown",
   "metadata": {},
   "source": [
    "### The chain rule"
   ]
  },
  {
   "cell_type": "markdown",
   "metadata": {},
   "source": [
    "Ok, now let's talk about the chain rule.  Imagine that we would like to take the derivative of the following function:\n",
    "\n",
    "$$f(x) = (3 + x^2 + 2x )^2 $$ \n",
    "\n",
    "Doing something like that can be pretting tricky right off the bat.  Lucky for us, we can use the chain rule.  The chain rule is essentially a trick that can be applied when our functions get complicated.  The first step is using functional composition to break our function down. Ok, let's do it.\n",
    "\n",
    "$$g(x) = (3 + x^2 + 2x)$$\n",
    "$$f(g(x)) = g(x)^2$$\n",
    "\n",
    "So now note that $f(x) = f(g(x))$.  So our new question is to find the derivative of that latter function, $f'(g(x))$.  Sounds impossible, you say?  Enter the chain rule."
   ]
  },
  {
   "cell_type": "markdown",
   "metadata": {},
   "source": [
    "> **The chain rule** allows us to answer just this question.  Remember, taking a derivative means changing a variable $x$ a little, and seeing the change in the output.  The chain rule allows us to solve the problem of seeing the change in output when our function does not **directly** depend on that changing variable, but depends on **a function ** that depends on a variable.  \n",
    "\n",
    "So here $f(g(x) $ does not directly depend on $x$.  Instead it depends on the fucntion $g(x)$ which depends on $x$.  Ok, enough talk let's see the rule."
   ]
  },
  {
   "cell_type": "markdown",
   "metadata": {},
   "source": [
    " $$f'(g(x)) = \\frac{\\Delta f}{\\Delta g}f(g(x))*\\frac{\\Delta g}{\\Delta x}g(x)$$ \n",
    " \n",
    " Yes it's a mouthful, but it's not so bad in practice."
   ]
  },
  {
   "cell_type": "markdown",
   "metadata": {},
   "source": [
    "### Applying the chain rule"
   ]
  },
  {
   "cell_type": "markdown",
   "metadata": {},
   "source": [
    "#### Taking each derivative"
   ]
  },
  {
   "cell_type": "markdown",
   "metadata": {},
   "source": [
    "Let's apply our chain rule step by step to the function by taking the derivative $f'(x) $ where:\n",
    "\n",
    "$$g(x) = (3 + x^2 + 2x)$$\n",
    "\n",
    "$$f(g(x)) = g(x)^2$$\n",
    "\n",
    "Remember our chain rule is: $f'(g(x)) = \\frac{\\Delta f}{\\Delta g}f(g(x))*\\frac{\\Delta g}{\\Delta x}g(x)$\n",
    "\n",
    "* First we take the derivative $\\frac{\\Delta g}{\\Delta x}g(x) = g'(x) = 2x + 2$.\n",
    "\n",
    "\n",
    "* Then, we take the derivative $\\frac{\\Delta f}{\\Delta g}f(g(x))$ where $f(g(x)) = (g(x))^2 $."
   ]
  },
  {
   "cell_type": "markdown",
   "metadata": {},
   "source": [
    "This is how we evaluate that second derivative.  $\\frac{\\Delta f}{\\Delta g}f(g(x)) = 2 * (g(x))^1 =  2 * g(x)$ \n",
    "\n",
    "> The reason why is because to take that second derivative $\\frac{\\Delta f}{\\Delta g}f(g(x))$, means how does the output of $f(g(x))$ change as we nudge **the function** $g(x)$.  This means that we can just treat the entire function $g(x)$ as a variable, and use our power rule.  "
   ]
  },
  {
   "cell_type": "markdown",
   "metadata": {},
   "source": [
    "#### Plugging our derivatives back into our formula\n",
    "\n",
    "Ok, now we have solved our two derivatives.  Let's plug these derivatives back into our chain rule of $f'(g(x)) = \\frac{\\Delta f}{\\Delta g}f(g)*\\frac{\\Delta g}{\\Delta x}g(x)$."
   ]
  },
  {
   "cell_type": "markdown",
   "metadata": {},
   "source": [
    "* Doing so we have $f'(g(x)) = 2*g(x)*(2x + 2)$\n",
    "\n",
    "\n",
    "* And because we are told $g(x) = (3 + x^2 + 2x)$ \n",
    "\n",
    "\n",
    "* substituting this in for $g(x)$ we have\n",
    "\n",
    "\n",
    "* $f'(g(x)) = 2*g(x)*(2x + 2) = 2*(3 + x^2 + 2x)*(2x + 2) $"
   ]
  },
  {
   "cell_type": "markdown",
   "metadata": {},
   "source": [
    "Leaving our equation there is fine.  We've done enough math for one lesson.  Hopefully, you see how using the chain rule allows us to break a complicated function up into two, and simply apply the rule to calculate the derivative.   "
   ]
  },
  {
   "cell_type": "markdown",
   "metadata": {},
   "source": [
    "### Summary"
   ]
  },
  {
   "cell_type": "markdown",
   "metadata": {},
   "source": [
    "Finally we saw how the chain rule allows us to break a complicated function up into two, and simply apply the rule of $f'(g(x)) = \\frac{\\Delta f}{\\Delta g}f(g)*\\frac{\\Delta f}{\\Delta x}g(x)$.  In machine learning sections to come, we will make use of the chain rule in taking derivatives. "
   ]
  }
 ],
 "metadata": {
  "kernelspec": {
   "display_name": "Python 3",
   "language": "python",
   "name": "python3"
  },
  "language_info": {
   "codemirror_mode": {
    "name": "ipython",
    "version": 3
   },
   "file_extension": ".py",
   "mimetype": "text/x-python",
   "name": "python",
   "nbconvert_exporter": "python",
   "pygments_lexer": "ipython3",
   "version": "3.6.1"
  }
 },
 "nbformat": 4,
 "nbformat_minor": 2
}
